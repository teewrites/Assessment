{
 "cells": [
  {
   "cell_type": "code",
   "execution_count": 2,
   "metadata": {},
   "outputs": [],
   "source": []
  },
  {
   "cell_type": "code",
   "execution_count": 3,
   "metadata": {},
   "outputs": [
    {
     "data": {
      "text/plain": [
       "[1, 2, 3, 4, 5, 6, 13, 21, 24]"
      ]
     },
     "execution_count": 3,
     "metadata": {},
     "output_type": "execute_result"
    }
   ],
   "source": [
    "A= [1,2,3,4,5,6]\n",
    "B= [13,21,24]\n",
    "A.extend(B)\n",
    "A"
   ]
  },
  {
   "cell_type": "code",
   "execution_count": 4,
   "metadata": {},
   "outputs": [
    {
     "data": {
      "text/plain": [
       "array([[1., 0., 0.],\n",
       "       [0., 1., 0.],\n",
       "       [0., 0., 1.]])"
      ]
     },
     "execution_count": 4,
     "metadata": {},
     "output_type": "execute_result"
    }
   ],
   "source": [
    "import numpy as np\n",
    "np.identity(3)"
   ]
  },
  {
   "cell_type": "code",
   "execution_count": 17,
   "metadata": {},
   "outputs": [],
   "source": [
    "import pandas as pd\n",
    "url=('https://github.com/WalePhenomenon/climate_change/blob/master/fuel_ferc1.csv?raw=true')\n",
    "fuel_data = pd.read_csv(url, error_bad_lines=False)\n",
    "fuel_data.describe(include='all')\n",
    "fuel_data.to_csv('url.csv')\n"
   ]
  },
  {
   "cell_type": "code",
   "execution_count": 18,
   "metadata": {},
   "outputs": [
    {
     "data": {
      "text/plain": [
       "record_id                         0\n",
       "utility_id_ferc1                  0\n",
       "report_year                       0\n",
       "plant_name_ferc1                  0\n",
       "fuel_type_code_pudl               0\n",
       "fuel_unit                       180\n",
       "fuel_qty_burned                   0\n",
       "fuel_mmbtu_per_unit               0\n",
       "fuel_cost_per_unit_burned         0\n",
       "fuel_cost_per_unit_delivered      0\n",
       "fuel_cost_per_mmbtu               0\n",
       "dtype: int64"
      ]
     },
     "execution_count": 18,
     "metadata": {},
     "output_type": "execute_result"
    }
   ],
   "source": [
    "\n",
    "#check for missing values\n",
    "fuel_data.isnull().sum()"
   ]
  },
  {
   "cell_type": "code",
   "execution_count": 19,
   "metadata": {},
   "outputs": [
    {
     "data": {
      "text/plain": [
       "record_id                       0\n",
       "utility_id_ferc1                0\n",
       "report_year                     0\n",
       "plant_name_ferc1                0\n",
       "fuel_type_code_pudl             0\n",
       "fuel_unit                       0\n",
       "fuel_qty_burned                 0\n",
       "fuel_mmbtu_per_unit             0\n",
       "fuel_cost_per_unit_burned       0\n",
       "fuel_cost_per_unit_delivered    0\n",
       "fuel_cost_per_mmbtu             0\n",
       "dtype: int64"
      ]
     },
     "execution_count": 19,
     "metadata": {},
     "output_type": "execute_result"
    }
   ],
   "source": [
    "#use groupby to count the sum of each unique value in the fuel unit column\n",
    "fuel_data.groupby('fuel_unit')['fuel_unit'].count()\n",
    "fuel_data[['fuel_unit']] = fuel_data[['fuel_unit']].fillna(value = 'mcf')\n",
    "\n",
    "#check if missing values have been filled\n",
    "fuel_data.isnull().sum()"
   ]
  },
  {
   "cell_type": "code",
   "execution_count": 20,
   "metadata": {},
   "outputs": [
    {
     "data": {
      "text/html": [
       "<div>\n",
       "<style scoped>\n",
       "    .dataframe tbody tr th:only-of-type {\n",
       "        vertical-align: middle;\n",
       "    }\n",
       "\n",
       "    .dataframe tbody tr th {\n",
       "        vertical-align: top;\n",
       "    }\n",
       "\n",
       "    .dataframe thead th {\n",
       "        text-align: right;\n",
       "    }\n",
       "</style>\n",
       "<table border=\"1\" class=\"dataframe\">\n",
       "  <thead>\n",
       "    <tr style=\"text-align: right;\">\n",
       "      <th></th>\n",
       "      <th>utility_id_ferc1</th>\n",
       "      <th>report_year</th>\n",
       "      <th>fuel_qty_burned</th>\n",
       "      <th>fuel_mmbtu_per_unit</th>\n",
       "      <th>fuel_cost_per_unit_delivered</th>\n",
       "      <th>fuel_cost_per_mmbtu</th>\n",
       "    </tr>\n",
       "    <tr>\n",
       "      <th>fuel_cost_per_unit_burned</th>\n",
       "      <th></th>\n",
       "      <th></th>\n",
       "      <th></th>\n",
       "      <th></th>\n",
       "      <th></th>\n",
       "      <th></th>\n",
       "    </tr>\n",
       "  </thead>\n",
       "  <tbody>\n",
       "    <tr>\n",
       "      <th>-276.080</th>\n",
       "      <td>194.0</td>\n",
       "      <td>2000.0</td>\n",
       "      <td>39.0</td>\n",
       "      <td>0.015500</td>\n",
       "      <td>-174.670</td>\n",
       "      <td>-8.906</td>\n",
       "    </tr>\n",
       "    <tr>\n",
       "      <th>-174.670</th>\n",
       "      <td>194.0</td>\n",
       "      <td>2000.0</td>\n",
       "      <td>116.0</td>\n",
       "      <td>0.015500</td>\n",
       "      <td>-174.670</td>\n",
       "      <td>-5.635</td>\n",
       "    </tr>\n",
       "    <tr>\n",
       "      <th>-123.310</th>\n",
       "      <td>194.0</td>\n",
       "      <td>2000.0</td>\n",
       "      <td>77.0</td>\n",
       "      <td>0.015500</td>\n",
       "      <td>-174.670</td>\n",
       "      <td>-3.978</td>\n",
       "    </tr>\n",
       "    <tr>\n",
       "      <th>-119.040</th>\n",
       "      <td>281.0</td>\n",
       "      <td>2003.0</td>\n",
       "      <td>1159.0</td>\n",
       "      <td>0.012731</td>\n",
       "      <td>-118.340</td>\n",
       "      <td>-5.750</td>\n",
       "    </tr>\n",
       "    <tr>\n",
       "      <th>-85.760</th>\n",
       "      <td>194.0</td>\n",
       "      <td>1995.0</td>\n",
       "      <td>6072.0</td>\n",
       "      <td>0.013457</td>\n",
       "      <td>-85.640</td>\n",
       "      <td>-3.186</td>\n",
       "    </tr>\n",
       "    <tr>\n",
       "      <th>...</th>\n",
       "      <td>...</td>\n",
       "      <td>...</td>\n",
       "      <td>...</td>\n",
       "      <td>...</td>\n",
       "      <td>...</td>\n",
       "      <td>...</td>\n",
       "    </tr>\n",
       "    <tr>\n",
       "      <th>65137.588</th>\n",
       "      <td>7.0</td>\n",
       "      <td>2012.0</td>\n",
       "      <td>465.0</td>\n",
       "      <td>0.066706</td>\n",
       "      <td>2958.417</td>\n",
       "      <td>0.976</td>\n",
       "    </tr>\n",
       "    <tr>\n",
       "      <th>69785.215</th>\n",
       "      <td>7.0</td>\n",
       "      <td>2011.0</td>\n",
       "      <td>467.0</td>\n",
       "      <td>0.066704</td>\n",
       "      <td>2834.457</td>\n",
       "      <td>1.046</td>\n",
       "    </tr>\n",
       "    <tr>\n",
       "      <th>80459.000</th>\n",
       "      <td>177.0</td>\n",
       "      <td>2014.0</td>\n",
       "      <td>76.0</td>\n",
       "      <td>5.984286</td>\n",
       "      <td>0.000</td>\n",
       "      <td>13.445</td>\n",
       "    </tr>\n",
       "    <tr>\n",
       "      <th>83538.000</th>\n",
       "      <td>132.0</td>\n",
       "      <td>2011.0</td>\n",
       "      <td>150.0</td>\n",
       "      <td>5.880000</td>\n",
       "      <td>137.172</td>\n",
       "      <td>14.207</td>\n",
       "    </tr>\n",
       "    <tr>\n",
       "      <th>139358.000</th>\n",
       "      <td>147.0</td>\n",
       "      <td>2014.0</td>\n",
       "      <td>49418.0</td>\n",
       "      <td>6.172572</td>\n",
       "      <td>136410.000</td>\n",
       "      <td>22.577</td>\n",
       "    </tr>\n",
       "  </tbody>\n",
       "</table>\n",
       "<p>19416 rows × 6 columns</p>\n",
       "</div>"
      ],
      "text/plain": [
       "                           utility_id_ferc1  report_year  fuel_qty_burned  \\\n",
       "fuel_cost_per_unit_burned                                                   \n",
       "-276.080                              194.0       2000.0             39.0   \n",
       "-174.670                              194.0       2000.0            116.0   \n",
       "-123.310                              194.0       2000.0             77.0   \n",
       "-119.040                              281.0       2003.0           1159.0   \n",
       "-85.760                               194.0       1995.0           6072.0   \n",
       "...                                     ...          ...              ...   \n",
       " 65137.588                              7.0       2012.0            465.0   \n",
       " 69785.215                              7.0       2011.0            467.0   \n",
       " 80459.000                            177.0       2014.0             76.0   \n",
       " 83538.000                            132.0       2011.0            150.0   \n",
       " 139358.000                           147.0       2014.0          49418.0   \n",
       "\n",
       "                           fuel_mmbtu_per_unit  fuel_cost_per_unit_delivered  \\\n",
       "fuel_cost_per_unit_burned                                                      \n",
       "-276.080                              0.015500                      -174.670   \n",
       "-174.670                              0.015500                      -174.670   \n",
       "-123.310                              0.015500                      -174.670   \n",
       "-119.040                              0.012731                      -118.340   \n",
       "-85.760                               0.013457                       -85.640   \n",
       "...                                        ...                           ...   \n",
       " 65137.588                            0.066706                      2958.417   \n",
       " 69785.215                            0.066704                      2834.457   \n",
       " 80459.000                            5.984286                         0.000   \n",
       " 83538.000                            5.880000                       137.172   \n",
       " 139358.000                           6.172572                    136410.000   \n",
       "\n",
       "                           fuel_cost_per_mmbtu  \n",
       "fuel_cost_per_unit_burned                       \n",
       "-276.080                                -8.906  \n",
       "-174.670                                -5.635  \n",
       "-123.310                                -3.978  \n",
       "-119.040                                -5.750  \n",
       "-85.760                                 -3.186  \n",
       "...                                        ...  \n",
       " 65137.588                               0.976  \n",
       " 69785.215                               1.046  \n",
       " 80459.000                              13.445  \n",
       " 83538.000                              14.207  \n",
       " 139358.000                             22.577  \n",
       "\n",
       "[19416 rows x 6 columns]"
      ]
     },
     "execution_count": 20,
     "metadata": {},
     "output_type": "execute_result"
    }
   ],
   "source": [
    "fuel_data.groupby('fuel_cost_per_unit_burned').mean()"
   ]
  },
  {
   "cell_type": "code",
   "execution_count": null,
   "metadata": {},
   "outputs": [],
   "source": []
  }
 ],
 "metadata": {
  "kernelspec": {
   "display_name": "Python 3",
   "language": "python",
   "name": "python3"
  },
  "language_info": {
   "codemirror_mode": {
    "name": "ipython",
    "version": 3
   },
   "file_extension": ".py",
   "mimetype": "text/x-python",
   "name": "python",
   "nbconvert_exporter": "python",
   "pygments_lexer": "ipython3",
   "version": "3.7.6"
  }
 },
 "nbformat": 4,
 "nbformat_minor": 4
}
